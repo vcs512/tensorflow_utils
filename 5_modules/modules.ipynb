{
  "cells": [
    {
      "cell_type": "markdown",
      "metadata": {
        "id": "ISubpr_SSsiM"
      },
      "source": [
        "##### Copyright 2020 The TensorFlow Authors.\n"
      ]
    },
    {
      "cell_type": "code",
      "execution_count": 1,
      "metadata": {
        "execution": {
          "iopub.execute_input": "2023-03-28T01:20:49.500383Z",
          "iopub.status.busy": "2023-03-28T01:20:49.500152Z",
          "iopub.status.idle": "2023-03-28T01:20:49.503778Z",
          "shell.execute_reply": "2023-03-28T01:20:49.503204Z"
        },
        "id": "3jTMb1dySr3V"
      },
      "outputs": [],
      "source": [
        "#@title Licensed under the Apache License, Version 2.0 (the \"License\");\n",
        "# you may not use this file except in compliance with the License.\n",
        "# You may obtain a copy of the License at\n",
        "#\n",
        "# https://www.apache.org/licenses/LICENSE-2.0\n",
        "#\n",
        "# Unless required by applicable law or agreed to in writing, software\n",
        "# distributed under the License is distributed on an \"AS IS\" BASIS,\n",
        "# WITHOUT WARRANTIES OR CONDITIONS OF ANY KIND, either express or implied.\n",
        "# See the License for the specific language governing permissions and\n",
        "# limitations under the License."
      ]
    },
    {
      "cell_type": "markdown",
      "metadata": {
        "id": "6DWfyNThSziV"
      },
      "source": [
        "# Introduction to modules, layers, and models\n",
        "\n",
        "<table class=\"tfo-notebook-buttons\" align=\"left\">\n",
        "  <td>\n",
        "    <a target=\"_blank\" href=\"https://www.tensorflow.org/guide/intro_to_modules\"><img src=\"https://www.tensorflow.org/images/tf_logo_32px.png\" />View on TensorFlow.org</a>\n",
        "  </td>\n",
        "  <td>\n",
        "    <a target=\"_blank\" href=\"https://colab.research.google.com/github/tensorflow/docs/blob/master/site/en/guide/intro_to_modules.ipynb\"><img src=\"https://www.tensorflow.org/images/colab_logo_32px.png\" />Run in Google Colab</a>\n",
        "  </td>\n",
        "  <td>\n",
        "    <a target=\"_blank\" href=\"https://github.com/tensorflow/docs/blob/master/site/en/guide/intro_to_modules.ipynb\"><img src=\"https://www.tensorflow.org/images/GitHub-Mark-32px.png\" />View source on GitHub</a>\n",
        "  </td>\n",
        "  <td>\n",
        "    <a href=\"https://storage.googleapis.com/tensorflow_docs/docs/site/en/guide/intro_to_modules.ipynb\"><img src=\"https://www.tensorflow.org/images/download_logo_32px.png\" />Download notebook</a>\n",
        "  </td>\n",
        "</table>"
      ]
    },
    {
      "cell_type": "markdown",
      "metadata": {
        "id": "v0DdlfacAdTZ"
      },
      "source": [
        "To do machine learning in TensorFlow, you are likely to need to define, save, and restore a model.\n",
        "\n",
        "A model is, abstractly: \n",
        "\n",
        "* A function that computes something on tensors (a **forward pass**)\n",
        "* Some variables that can be updated in response to training\n",
        "\n",
        "In this guide, you will go below the surface of Keras to see how TensorFlow models are defined. This looks at how TensorFlow collects variables and models, as well as how they are saved and restored.\n",
        "\n",
        "Note: If you instead want to immediately get started with Keras, please see [the collection of Keras guides](./keras/).\n"
      ]
    },
    {
      "cell_type": "markdown",
      "metadata": {
        "id": "VSa6ayJmfZxZ"
      },
      "source": [
        "## Setup"
      ]
    },
    {
      "cell_type": "code",
      "execution_count": 2,
      "metadata": {
        "execution": {
          "iopub.execute_input": "2023-03-28T01:20:49.506536Z",
          "iopub.status.busy": "2023-03-28T01:20:49.506324Z",
          "iopub.status.idle": "2023-03-28T01:20:51.627153Z",
          "shell.execute_reply": "2023-03-28T01:20:51.626419Z"
        },
        "id": "goZwOXp_xyQj"
      },
      "outputs": [],
      "source": [
        "import tensorflow as tf\n",
        "from datetime import datetime\n",
        "\n",
        "%load_ext tensorboard"
      ]
    },
    {
      "cell_type": "markdown",
      "metadata": {
        "id": "yt5HEbsYAbw1"
      },
      "source": [
        "## Defining models and layers in TensorFlow\n",
        "\n",
        "Most models are made of layers. Layers are functions with a known mathematical structure that can be reused and have trainable variables.  In TensorFlow, most high-level implementations of layers and models, such as Keras or [Sonnet](https://github.com/deepmind/sonnet), are built on the same foundational class: `tf.Module`.\n",
        "\n",
        "Here's an example of a very simple `tf.Module` that operates on a scalar tensor:\n"
      ]
    },
    {
      "cell_type": "code",
      "execution_count": 3,
      "metadata": {
        "execution": {
          "iopub.execute_input": "2023-03-28T01:20:51.630881Z",
          "iopub.status.busy": "2023-03-28T01:20:51.630505Z",
          "iopub.status.idle": "2023-03-28T01:20:55.379658Z",
          "shell.execute_reply": "2023-03-28T01:20:55.378738Z"
        },
        "id": "alhYPVEtAiSy",
        "colab": {
          "base_uri": "https://localhost:8080/"
        },
        "outputId": "ddaf2642-5b24-43fd-da33-5dc1b89cfe21"
      },
      "outputs": [
        {
          "output_type": "execute_result",
          "data": {
            "text/plain": [
              "<tf.Tensor: shape=(), dtype=float32, numpy=30.0>"
            ]
          },
          "metadata": {},
          "execution_count": 3
        }
      ],
      "source": [
        "class SimpleModule(tf.Module):\n",
        "  def __init__(self, name=None):\n",
        "    super().__init__(name=name)\n",
        "    self.a_variable = tf.Variable(5.0, name=\"train_me\")\n",
        "    self.non_trainable_variable = tf.Variable(5.0, trainable=False, name=\"do_not_train_me\")\n",
        "  def __call__(self, x):\n",
        "    return self.a_variable * x + self.non_trainable_variable\n",
        "\n",
        "simple_module = SimpleModule(name=\"simple\")\n",
        "\n",
        "simple_module(tf.constant(5.0))"
      ]
    },
    {
      "cell_type": "markdown",
      "metadata": {
        "id": "JwMc_zu5Ant8"
      },
      "source": [
        "Modules and, by extension, layers are deep-learning terminology for \"objects\": they have internal state, and methods that use that state.\n",
        "\n",
        "There is nothing special about `__call__` except to act like a [Python callable](https://stackoverflow.com/questions/111234/what-is-a-callable); you can invoke your models with whatever functions you wish.\n",
        "\n",
        "You can set the trainability of variables on and off for any reason, including freezing layers and variables during fine-tuning.\n",
        "\n",
        "Note: `tf.Module` is the base class for both `tf.keras.layers.Layer` and `tf.keras.Model`, so everything you come across here also applies in Keras.  For historical compatibility reasons Keras layers do not collect variables from modules, so your models should use only modules or only Keras layers.  However, the methods shown below for inspecting variables are the same in either case.\n",
        "\n",
        "By subclassing `tf.Module`, any `tf.Variable` or `tf.Module` instances assigned to this object's properties are automatically collected.  This allows you to save and load variables, and also create collections of `tf.Module`s."
      ]
    },
    {
      "cell_type": "code",
      "execution_count": 4,
      "metadata": {
        "execution": {
          "iopub.execute_input": "2023-03-28T01:20:55.416843Z",
          "iopub.status.busy": "2023-03-28T01:20:55.416268Z",
          "iopub.status.idle": "2023-03-28T01:20:55.425016Z",
          "shell.execute_reply": "2023-03-28T01:20:55.424212Z"
        },
        "id": "CyzYy4A_CbVf",
        "colab": {
          "base_uri": "https://localhost:8080/"
        },
        "outputId": "6d6c9cd7-d421-4651-a87f-dd64c6392904"
      },
      "outputs": [
        {
          "output_type": "stream",
          "name": "stdout",
          "text": [
            "trainable variables: (<tf.Variable 'train_me:0' shape=() dtype=float32, numpy=5.0>,)\n",
            "all variables: (<tf.Variable 'train_me:0' shape=() dtype=float32, numpy=5.0>, <tf.Variable 'do_not_train_me:0' shape=() dtype=float32, numpy=5.0>)\n"
          ]
        }
      ],
      "source": [
        "# All trainable variables\n",
        "print(\"trainable variables:\", simple_module.trainable_variables)\n",
        "# Every variable\n",
        "print(\"all variables:\", simple_module.variables)"
      ]
    },
    {
      "cell_type": "markdown",
      "metadata": {
        "id": "nuSFrRUNCaaW"
      },
      "source": [
        "This is an example of a two-layer linear layer model made out of modules.\n",
        "\n",
        "First a dense (linear) layer:"
      ]
    },
    {
      "cell_type": "code",
      "execution_count": 5,
      "metadata": {
        "execution": {
          "iopub.execute_input": "2023-03-28T01:20:55.428499Z",
          "iopub.status.busy": "2023-03-28T01:20:55.427879Z",
          "iopub.status.idle": "2023-03-28T01:20:55.432867Z",
          "shell.execute_reply": "2023-03-28T01:20:55.432102Z"
        },
        "id": "Efb2p2bzAn-V"
      },
      "outputs": [],
      "source": [
        "class Dense(tf.Module):\n",
        "  def __init__(self, in_features, out_features, name=None):\n",
        "    super().__init__(name=name)\n",
        "    self.w = tf.Variable(\n",
        "      tf.random.normal([in_features, out_features]), name='w')\n",
        "    self.b = tf.Variable(tf.zeros([out_features]), name='b')\n",
        "  def __call__(self, x):\n",
        "    y = tf.matmul(x, self.w) + self.b\n",
        "    return tf.nn.relu(y)"
      ]
    },
    {
      "cell_type": "markdown",
      "metadata": {
        "id": "bAhMuC-UpnhX"
      },
      "source": [
        "And then the complete model, which makes two layer instances and applies them:"
      ]
    },
    {
      "cell_type": "code",
      "execution_count": 6,
      "metadata": {
        "execution": {
          "iopub.execute_input": "2023-03-28T01:20:55.436711Z",
          "iopub.status.busy": "2023-03-28T01:20:55.436095Z",
          "iopub.status.idle": "2023-03-28T01:20:57.298272Z",
          "shell.execute_reply": "2023-03-28T01:20:57.297636Z"
        },
        "id": "QQ7qQf-DFw74",
        "colab": {
          "base_uri": "https://localhost:8080/"
        },
        "outputId": "02452bbe-2ccd-4b13-d7b5-6a01d797fd04"
      },
      "outputs": [
        {
          "output_type": "stream",
          "name": "stdout",
          "text": [
            "Model results: tf.Tensor([[0.        5.3107867]], shape=(1, 2), dtype=float32)\n"
          ]
        }
      ],
      "source": [
        "class SequentialModule(tf.Module):\n",
        "  def __init__(self, name=None):\n",
        "    super().__init__(name=name)\n",
        "\n",
        "    self.dense_1 = Dense(in_features=3, out_features=3)\n",
        "    self.dense_2 = Dense(in_features=3, out_features=2)\n",
        "\n",
        "  def __call__(self, x):\n",
        "    x = self.dense_1(x)\n",
        "    return self.dense_2(x)\n",
        "\n",
        "# You have made a model!\n",
        "my_model = SequentialModule(name=\"the_model\")\n",
        "\n",
        "# Call it, with random results\n",
        "print(\"Model results:\", my_model(tf.constant([[2.0, 2.0, 2.0]])))"
      ]
    },
    {
      "cell_type": "markdown",
      "metadata": {
        "id": "d1oUzasJHHXf"
      },
      "source": [
        "`tf.Module` instances will automatically collect, recursively, any `tf.Variable` or `tf.Module` instances assigned to it. This allows you to manage collections of `tf.Module`s with a single model instance, and save and load whole models."
      ]
    },
    {
      "cell_type": "code",
      "execution_count": 7,
      "metadata": {
        "execution": {
          "iopub.execute_input": "2023-03-28T01:20:57.301267Z",
          "iopub.status.busy": "2023-03-28T01:20:57.301040Z",
          "iopub.status.idle": "2023-03-28T01:20:57.305010Z",
          "shell.execute_reply": "2023-03-28T01:20:57.304416Z"
        },
        "id": "JLFA5_PEGb6C",
        "colab": {
          "base_uri": "https://localhost:8080/"
        },
        "outputId": "8d3c646d-447c-4fee-cf37-c3153f19a31c"
      },
      "outputs": [
        {
          "output_type": "stream",
          "name": "stdout",
          "text": [
            "Submodules: (<__main__.Dense object at 0x7fabfc3090d0>, <__main__.Dense object at 0x7fab80397190>)\n"
          ]
        }
      ],
      "source": [
        "print(\"Submodules:\", my_model.submodules)\n"
      ]
    },
    {
      "cell_type": "code",
      "execution_count": 8,
      "metadata": {
        "execution": {
          "iopub.execute_input": "2023-03-28T01:20:57.307690Z",
          "iopub.status.busy": "2023-03-28T01:20:57.307445Z",
          "iopub.status.idle": "2023-03-28T01:20:57.313691Z",
          "shell.execute_reply": "2023-03-28T01:20:57.313140Z"
        },
        "id": "6lzoB8pcRN12",
        "colab": {
          "base_uri": "https://localhost:8080/"
        },
        "outputId": "f9ae277b-c2d6-419a-838f-e9b66e95d566"
      },
      "outputs": [
        {
          "output_type": "stream",
          "name": "stdout",
          "text": [
            "<tf.Variable 'b:0' shape=(3,) dtype=float32, numpy=array([0., 0., 0.], dtype=float32)> \n",
            "\n",
            "<tf.Variable 'w:0' shape=(3, 3) dtype=float32, numpy=\n",
            "array([[ 0.58151674,  0.05752156, -0.4080686 ],\n",
            "       [ 0.6308084 , -1.2969658 , -0.02059272],\n",
            "       [ 1.8340019 , -0.3811321 ,  0.84074694]], dtype=float32)> \n",
            "\n",
            "<tf.Variable 'b:0' shape=(2,) dtype=float32, numpy=array([0., 0.], dtype=float32)> \n",
            "\n",
            "<tf.Variable 'w:0' shape=(3, 2) dtype=float32, numpy=\n",
            "array([[-0.18810964,  0.8865178 ],\n",
            "       [ 1.191364  ,  0.5634536 ],\n",
            "       [-0.8309103 , -0.10975841]], dtype=float32)> \n",
            "\n"
          ]
        }
      ],
      "source": [
        "for var in my_model.variables:\n",
        "  print(var, \"\\n\")"
      ]
    },
    {
      "cell_type": "markdown",
      "metadata": {
        "id": "hoaxL3zzm0vK"
      },
      "source": [
        "### Waiting to create variables\n",
        "\n",
        "You may have noticed here that you have to define both input and output sizes to the layer.  This is so the `w` variable has a known shape and can be allocated.\n",
        "\n",
        "By deferring variable creation to the first time the module is called with a specific input shape, you do not need specify the input size up front."
      ]
    },
    {
      "cell_type": "code",
      "execution_count": 9,
      "metadata": {
        "execution": {
          "iopub.execute_input": "2023-03-28T01:20:57.316234Z",
          "iopub.status.busy": "2023-03-28T01:20:57.315997Z",
          "iopub.status.idle": "2023-03-28T01:20:57.320904Z",
          "shell.execute_reply": "2023-03-28T01:20:57.320311Z"
        },
        "id": "XsGCLFXlnPum"
      },
      "outputs": [],
      "source": [
        "class FlexibleDenseModule(tf.Module):\n",
        "  # Note: No need for `in_features`\n",
        "  def __init__(self, out_features, name=None):\n",
        "    super().__init__(name=name)\n",
        "    self.is_built = False\n",
        "    self.out_features = out_features\n",
        "\n",
        "  def __call__(self, x):\n",
        "    # Create variables on first call.\n",
        "    if not self.is_built:\n",
        "      self.w = tf.Variable(\n",
        "        tf.random.normal([x.shape[-1], self.out_features]), name='w')\n",
        "      self.b = tf.Variable(tf.zeros([self.out_features]), name='b')\n",
        "      self.is_built = True\n",
        "\n",
        "    y = tf.matmul(x, self.w) + self.b\n",
        "    return tf.nn.relu(y)"
      ]
    },
    {
      "cell_type": "code",
      "execution_count": 10,
      "metadata": {
        "execution": {
          "iopub.execute_input": "2023-03-28T01:20:57.323287Z",
          "iopub.status.busy": "2023-03-28T01:20:57.323089Z",
          "iopub.status.idle": "2023-03-28T01:20:57.332338Z",
          "shell.execute_reply": "2023-03-28T01:20:57.331803Z"
        },
        "id": "8bjOWax9LOkP",
        "colab": {
          "base_uri": "https://localhost:8080/"
        },
        "outputId": "4f31907e-e177-47d5-d961-8b0255a747a1"
      },
      "outputs": [
        {
          "output_type": "stream",
          "name": "stdout",
          "text": [
            "Model results: tf.Tensor([[0.9871992 0.       ]], shape=(1, 2), dtype=float32)\n"
          ]
        }
      ],
      "source": [
        "# Used in a module\n",
        "class MySequentialModule(tf.Module):\n",
        "  def __init__(self, name=None):\n",
        "    super().__init__(name=name)\n",
        "\n",
        "    self.dense_1 = FlexibleDenseModule(out_features=3)\n",
        "    self.dense_2 = FlexibleDenseModule(out_features=2)\n",
        "\n",
        "  def __call__(self, x):\n",
        "    x = self.dense_1(x)\n",
        "    return self.dense_2(x)\n",
        "\n",
        "my_model = MySequentialModule(name=\"the_model\")\n",
        "print(\"Model results:\", my_model(tf.constant([[2.0, 2.0, 2.0]])))"
      ]
    },
    {
      "cell_type": "markdown",
      "metadata": {
        "id": "49JfbhVrpOLH"
      },
      "source": [
        "This flexibility is why TensorFlow layers often only need to specify the shape of their outputs, such as in `tf.keras.layers.Dense`, rather than both  the input and output size."
      ]
    },
    {
      "cell_type": "markdown",
      "metadata": {
        "id": "JOLVVBT8J_dl"
      },
      "source": [
        "## Saving weights\n",
        "\n",
        "You can save a `tf.Module` as both a [checkpoint](./checkpoint.ipynb) and a [SavedModel](./saved_model.ipynb).\n",
        "\n",
        "Checkpoints are just the weights (that is, the values of the set of variables inside the module and its submodules):"
      ]
    },
    {
      "cell_type": "code",
      "execution_count": 11,
      "metadata": {
        "execution": {
          "iopub.execute_input": "2023-03-28T01:20:57.334925Z",
          "iopub.status.busy": "2023-03-28T01:20:57.334681Z",
          "iopub.status.idle": "2023-03-28T01:20:57.360276Z",
          "shell.execute_reply": "2023-03-28T01:20:57.359754Z"
        },
        "id": "pHXKRDk7OLHA",
        "colab": {
          "base_uri": "https://localhost:8080/",
          "height": 35
        },
        "outputId": "1c6f123c-ed28-4554-87b8-761a8b07684e"
      },
      "outputs": [
        {
          "output_type": "execute_result",
          "data": {
            "text/plain": [
              "'my_checkpoint'"
            ],
            "application/vnd.google.colaboratory.intrinsic+json": {
              "type": "string"
            }
          },
          "metadata": {},
          "execution_count": 11
        }
      ],
      "source": [
        "chkp_path = \"my_checkpoint\"\n",
        "checkpoint = tf.train.Checkpoint(model=my_model)\n",
        "checkpoint.write(chkp_path)"
      ]
    },
    {
      "cell_type": "markdown",
      "metadata": {
        "id": "WXOPMBR4T4ZR"
      },
      "source": [
        "Checkpoints consist of two kinds of files: the data itself and an index file for metadata. The index file keeps track of what is actually saved and the numbering of checkpoints, while the checkpoint data contains the variable values and their attribute lookup paths."
      ]
    },
    {
      "cell_type": "code",
      "execution_count": 12,
      "metadata": {
        "execution": {
          "iopub.execute_input": "2023-03-28T01:20:57.362951Z",
          "iopub.status.busy": "2023-03-28T01:20:57.362736Z",
          "iopub.status.idle": "2023-03-28T01:20:57.532982Z",
          "shell.execute_reply": "2023-03-28T01:20:57.532238Z"
        },
        "id": "jBV3fprlTWqJ",
        "colab": {
          "base_uri": "https://localhost:8080/"
        },
        "outputId": "fdc05eed-53dd-446d-a8f2-50de5bf7a9c4"
      },
      "outputs": [
        {
          "output_type": "stream",
          "name": "stdout",
          "text": [
            "my_checkpoint.data-00000-of-00001  my_checkpoint.index\n"
          ]
        }
      ],
      "source": [
        "!ls my_checkpoint*"
      ]
    },
    {
      "cell_type": "markdown",
      "metadata": {
        "id": "CowCuBTvXgUu"
      },
      "source": [
        "You can look inside a checkpoint to be sure the whole collection of variables is saved, sorted by the Python object that contains them."
      ]
    },
    {
      "cell_type": "code",
      "execution_count": 13,
      "metadata": {
        "execution": {
          "iopub.execute_input": "2023-03-28T01:20:57.536207Z",
          "iopub.status.busy": "2023-03-28T01:20:57.535964Z",
          "iopub.status.idle": "2023-03-28T01:20:57.541492Z",
          "shell.execute_reply": "2023-03-28T01:20:57.540910Z"
        },
        "id": "o2QAdfpvS8tB",
        "colab": {
          "base_uri": "https://localhost:8080/"
        },
        "outputId": "00d57d8d-76e8-4934-8034-0d0ff10f9689"
      },
      "outputs": [
        {
          "output_type": "execute_result",
          "data": {
            "text/plain": [
              "[('_CHECKPOINTABLE_OBJECT_GRAPH', []),\n",
              " ('model/dense_1/b/.ATTRIBUTES/VARIABLE_VALUE', [3]),\n",
              " ('model/dense_1/w/.ATTRIBUTES/VARIABLE_VALUE', [3, 3]),\n",
              " ('model/dense_2/b/.ATTRIBUTES/VARIABLE_VALUE', [2]),\n",
              " ('model/dense_2/w/.ATTRIBUTES/VARIABLE_VALUE', [3, 2])]"
            ]
          },
          "metadata": {},
          "execution_count": 13
        }
      ],
      "source": [
        "tf.train.list_variables(chkp_path)"
      ]
    },
    {
      "cell_type": "markdown",
      "metadata": {
        "id": "4eGaNiQWcK4j"
      },
      "source": [
        "During distributed (multi-machine) training they can be sharded,  which is why they are numbered (e.g., '00000-of-00001').  In this case, though, there is only one shard.\n",
        "\n",
        "When you load models back in, you overwrite the values in your Python object."
      ]
    },
    {
      "cell_type": "code",
      "execution_count": 14,
      "metadata": {
        "execution": {
          "iopub.execute_input": "2023-03-28T01:20:57.544316Z",
          "iopub.status.busy": "2023-03-28T01:20:57.543929Z",
          "iopub.status.idle": "2023-03-28T01:20:57.565530Z",
          "shell.execute_reply": "2023-03-28T01:20:57.564948Z"
        },
        "id": "UV8rdDzcwVVg",
        "colab": {
          "base_uri": "https://localhost:8080/"
        },
        "outputId": "b705e292-3686-41c7-ff11-325b4ddf4a7e"
      },
      "outputs": [
        {
          "output_type": "execute_result",
          "data": {
            "text/plain": [
              "<tf.Tensor: shape=(1, 2), dtype=float32, numpy=array([[0.9871992, 0.       ]], dtype=float32)>"
            ]
          },
          "metadata": {},
          "execution_count": 14
        }
      ],
      "source": [
        "new_model = MySequentialModule()\n",
        "new_checkpoint = tf.train.Checkpoint(model=new_model)\n",
        "new_checkpoint.restore(\"my_checkpoint\")\n",
        "\n",
        "# Should be the same result as above\n",
        "new_model(tf.constant([[2.0, 2.0, 2.0]]))"
      ]
    },
    {
      "cell_type": "markdown",
      "metadata": {
        "id": "BnPwDRwamdfq"
      },
      "source": [
        "Note: As checkpoints are at the heart of long training workflows `tf.checkpoint.CheckpointManager` is a helper class that makes checkpoint management much easier. Refer to the [Training checkpoints guide](./checkpoint.ipynb) for more details."
      ]
    },
    {
      "cell_type": "markdown",
      "metadata": {
        "id": "pSZebVuWxDXu"
      },
      "source": [
        "## Saving functions\n",
        "\n",
        "TensorFlow can run models without the original Python objects, as demonstrated by [TensorFlow Serving](https://tensorflow.org/tfx) and [TensorFlow Lite](https://tensorflow.org/lite), even when you download a trained model from [TensorFlow Hub](https://tensorflow.org/hub).\n",
        "\n",
        "TensorFlow needs to know how to do the computations described in Python, but **without the original code**. To do this, you can make a **graph**, which is described in the [Introduction to graphs and functions guide](./intro_to_graphs.ipynb).\n",
        "\n",
        "This graph contains operations, or *ops*, that implement the function.\n",
        "\n",
        "You can define a graph in the model above by adding the `@tf.function` decorator to indicate that this code should run as a graph."
      ]
    },
    {
      "cell_type": "code",
      "execution_count": 15,
      "metadata": {
        "execution": {
          "iopub.execute_input": "2023-03-28T01:20:57.568300Z",
          "iopub.status.busy": "2023-03-28T01:20:57.568080Z",
          "iopub.status.idle": "2023-03-28T01:20:57.576178Z",
          "shell.execute_reply": "2023-03-28T01:20:57.575510Z"
        },
        "id": "WQTvkapUh7lk"
      },
      "outputs": [],
      "source": [
        "class MySequentialModule(tf.Module):\n",
        "  def __init__(self, name=None):\n",
        "    super().__init__(name=name)\n",
        "\n",
        "    self.dense_1 = Dense(in_features=3, out_features=3)\n",
        "    self.dense_2 = Dense(in_features=3, out_features=2)\n",
        "\n",
        "  @tf.function\n",
        "  def __call__(self, x):\n",
        "    x = self.dense_1(x)\n",
        "    return self.dense_2(x)\n",
        "\n",
        "# You have made a model with a graph!\n",
        "my_model = MySequentialModule(name=\"the_model\")"
      ]
    },
    {
      "cell_type": "markdown",
      "metadata": {
        "id": "hW66YXBziLo9"
      },
      "source": [
        "The module you have made works exactly the same as before.  Each unique signature passed into the function creates a separate graph. Check the [Introduction to graphs and functions guide](./intro_to_graphs.ipynb) for details."
      ]
    },
    {
      "cell_type": "code",
      "execution_count": 16,
      "metadata": {
        "execution": {
          "iopub.execute_input": "2023-03-28T01:20:57.578915Z",
          "iopub.status.busy": "2023-03-28T01:20:57.578699Z",
          "iopub.status.idle": "2023-03-28T01:20:57.687275Z",
          "shell.execute_reply": "2023-03-28T01:20:57.686645Z"
        },
        "id": "H5zUfti3iR52",
        "colab": {
          "base_uri": "https://localhost:8080/"
        },
        "outputId": "67c6e924-1692-4866-de52-a49a0d840880"
      },
      "outputs": [
        {
          "output_type": "stream",
          "name": "stdout",
          "text": [
            "tf.Tensor([[0.51375675 0.        ]], shape=(1, 2), dtype=float32)\n",
            "tf.Tensor(\n",
            "[[[0.51375675 0.        ]\n",
            "  [0.51375675 0.        ]]], shape=(1, 2, 2), dtype=float32)\n"
          ]
        }
      ],
      "source": [
        "print(my_model([[2.0, 2.0, 2.0]]))\n",
        "print(my_model([[[2.0, 2.0, 2.0], [2.0, 2.0, 2.0]]]))"
      ]
    },
    {
      "cell_type": "markdown",
      "metadata": {
        "id": "lbGlU1kgyDo7"
      },
      "source": [
        "You can visualize the graph by tracing it within a TensorBoard summary."
      ]
    },
    {
      "cell_type": "code",
      "execution_count": 17,
      "metadata": {
        "execution": {
          "iopub.execute_input": "2023-03-28T01:20:57.690255Z",
          "iopub.status.busy": "2023-03-28T01:20:57.690031Z",
          "iopub.status.idle": "2023-03-28T01:20:58.581306Z",
          "shell.execute_reply": "2023-03-28T01:20:58.580651Z"
        },
        "id": "zmy-T67zhp-S",
        "colab": {
          "base_uri": "https://localhost:8080/"
        },
        "outputId": "dbef9e38-0801-460f-e187-7f8ee0fb3563"
      },
      "outputs": [
        {
          "output_type": "stream",
          "name": "stdout",
          "text": [
            "tf.Tensor([[5.2695074 6.7568126]], shape=(1, 2), dtype=float32)\n"
          ]
        }
      ],
      "source": [
        "# Set up logging.\n",
        "stamp = datetime.now().strftime(\"%Y%m%d-%H%M%S\")\n",
        "logdir = \"logs/func/%s\" % stamp\n",
        "writer = tf.summary.create_file_writer(logdir)\n",
        "\n",
        "# Create a new model to get a fresh trace\n",
        "# Otherwise the summary will not see the graph.\n",
        "new_model = MySequentialModule()\n",
        "\n",
        "# Bracket the function call with\n",
        "# tf.summary.trace_on() and tf.summary.trace_export().\n",
        "tf.summary.trace_on(graph=True)\n",
        "tf.profiler.experimental.start(logdir)\n",
        "# Call only one tf.function when tracing.\n",
        "z = print(new_model(tf.constant([[2.0, 2.0, 2.0]])))\n",
        "with writer.as_default():\n",
        "  tf.summary.trace_export(\n",
        "      name=\"my_func_trace\",\n",
        "      step=0,\n",
        "      profiler_outdir=logdir)"
      ]
    },
    {
      "cell_type": "markdown",
      "metadata": {
        "id": "gz4lwNZ9hR79"
      },
      "source": [
        "Launch TensorBoard to view the resulting trace:"
      ]
    },
    {
      "cell_type": "code",
      "execution_count": null,
      "metadata": {
        "id": "V4MXDbgBnkJu"
      },
      "outputs": [],
      "source": [
        "#docs_infra: no_execute\n",
        "%tensorboard --logdir logs/func"
      ]
    },
    {
      "cell_type": "markdown",
      "metadata": {
        "id": "Gjattu0AhYUl"
      },
      "source": [
        "![A screenshot of the graph in TensorBoard](images/tensorboard_graph.png)"
      ]
    },
    {
      "cell_type": "markdown",
      "metadata": {
        "id": "SQu3TVZecmL7"
      },
      "source": [
        "### Creating a `SavedModel`\n",
        "\n",
        "The recommended way of sharing completely trained models is to use `SavedModel`.  `SavedModel` contains both a collection of functions and a collection of weights. \n",
        "\n",
        "You can save the model you have just trained as follows:"
      ]
    },
    {
      "cell_type": "code",
      "execution_count": 20,
      "metadata": {
        "execution": {
          "iopub.execute_input": "2023-03-28T01:20:58.584386Z",
          "iopub.status.busy": "2023-03-28T01:20:58.584145Z",
          "iopub.status.idle": "2023-03-28T01:20:58.682850Z",
          "shell.execute_reply": "2023-03-28T01:20:58.682226Z"
        },
        "id": "Awv_Tw__WK7a"
      },
      "outputs": [],
      "source": [
        "tf.saved_model.save(my_model, \"the_saved_model\")"
      ]
    },
    {
      "cell_type": "code",
      "execution_count": 21,
      "metadata": {
        "execution": {
          "iopub.execute_input": "2023-03-28T01:20:58.685865Z",
          "iopub.status.busy": "2023-03-28T01:20:58.685384Z",
          "iopub.status.idle": "2023-03-28T01:20:58.875353Z",
          "shell.execute_reply": "2023-03-28T01:20:58.874438Z"
        },
        "id": "SXv3mEKsefGj",
        "colab": {
          "base_uri": "https://localhost:8080/"
        },
        "outputId": "3798e92a-751f-4921-95ab-f27dd452ce68"
      },
      "outputs": [
        {
          "output_type": "stream",
          "name": "stdout",
          "text": [
            "total 32\n",
            "drwxr-xr-x 2 root root  4096 Apr 26 19:58 assets\n",
            "-rw-r--r-- 1 root root    56 Apr 26 19:58 fingerprint.pb\n",
            "-rw-r--r-- 1 root root 17116 Apr 26 19:58 saved_model.pb\n",
            "drwxr-xr-x 2 root root  4096 Apr 26 19:58 variables\n"
          ]
        }
      ],
      "source": [
        "# Inspect the SavedModel in the directory\n",
        "!ls -l the_saved_model"
      ]
    },
    {
      "cell_type": "code",
      "execution_count": 22,
      "metadata": {
        "execution": {
          "iopub.execute_input": "2023-03-28T01:20:58.878865Z",
          "iopub.status.busy": "2023-03-28T01:20:58.878562Z",
          "iopub.status.idle": "2023-03-28T01:20:59.071131Z",
          "shell.execute_reply": "2023-03-28T01:20:59.070339Z"
        },
        "id": "vQQ3hEvHYdoR",
        "colab": {
          "base_uri": "https://localhost:8080/"
        },
        "outputId": "e58f15ce-a205-4a24-923b-f2e1dfbbe680"
      },
      "outputs": [
        {
          "output_type": "stream",
          "name": "stdout",
          "text": [
            "total 8\n",
            "-rw-r--r-- 1 root root 490 Apr 26 19:58 variables.data-00000-of-00001\n",
            "-rw-r--r-- 1 root root 356 Apr 26 19:58 variables.index\n"
          ]
        }
      ],
      "source": [
        "# The variables/ directory contains a checkpoint of the variables \n",
        "!ls -l the_saved_model/variables"
      ]
    },
    {
      "cell_type": "markdown",
      "metadata": {
        "id": "xBqPop7ZesBU"
      },
      "source": [
        "The `saved_model.pb` file is a [protocol buffer](https://developers.google.com/protocol-buffers) describing the functional `tf.Graph`.\n",
        "\n",
        "Models and layers can be loaded from this representation without actually making an instance of the class that created it.  This is desired in situations where you do not have (or want) a Python interpreter, such as serving at scale or on an edge device, or in situations where the original Python code is not available or practical to use.\n",
        "\n",
        "You can load the model as new object:"
      ]
    },
    {
      "cell_type": "code",
      "execution_count": 23,
      "metadata": {
        "execution": {
          "iopub.execute_input": "2023-03-28T01:20:59.074521Z",
          "iopub.status.busy": "2023-03-28T01:20:59.074250Z",
          "iopub.status.idle": "2023-03-28T01:20:59.117064Z",
          "shell.execute_reply": "2023-03-28T01:20:59.116395Z"
        },
        "id": "zRFcA5wIefv4"
      },
      "outputs": [],
      "source": [
        "new_model = tf.saved_model.load(\"the_saved_model\")"
      ]
    },
    {
      "cell_type": "markdown",
      "metadata": {
        "id": "-9EF3mT7i3qN"
      },
      "source": [
        "`new_model`, created from loading a saved model, is an internal TensorFlow user object without any of the class knowledge. It is not of type `SequentialModule`."
      ]
    },
    {
      "cell_type": "code",
      "execution_count": 24,
      "metadata": {
        "execution": {
          "iopub.execute_input": "2023-03-28T01:20:59.120736Z",
          "iopub.status.busy": "2023-03-28T01:20:59.120143Z",
          "iopub.status.idle": "2023-03-28T01:20:59.124362Z",
          "shell.execute_reply": "2023-03-28T01:20:59.123796Z"
        },
        "id": "EC_eQj7yi54G",
        "colab": {
          "base_uri": "https://localhost:8080/"
        },
        "outputId": "693be52a-38cf-4fc3-a8a2-4c9232398149"
      },
      "outputs": [
        {
          "output_type": "execute_result",
          "data": {
            "text/plain": [
              "False"
            ]
          },
          "metadata": {},
          "execution_count": 24
        }
      ],
      "source": [
        "isinstance(new_model, SequentialModule)"
      ]
    },
    {
      "cell_type": "markdown",
      "metadata": {
        "id": "-OrOX1zxiyhR"
      },
      "source": [
        "This new model works on the already-defined input signatures. You can't add more signatures to a model restored like this."
      ]
    },
    {
      "cell_type": "code",
      "execution_count": 25,
      "metadata": {
        "execution": {
          "iopub.execute_input": "2023-03-28T01:20:59.127046Z",
          "iopub.status.busy": "2023-03-28T01:20:59.126535Z",
          "iopub.status.idle": "2023-03-28T01:20:59.133510Z",
          "shell.execute_reply": "2023-03-28T01:20:59.132936Z"
        },
        "id": "_23BYYBWfKnc",
        "colab": {
          "base_uri": "https://localhost:8080/"
        },
        "outputId": "1b74e29a-4685-4265-a2b8-b3303fa1554c"
      },
      "outputs": [
        {
          "output_type": "stream",
          "name": "stdout",
          "text": [
            "tf.Tensor([[0.51375675 0.        ]], shape=(1, 2), dtype=float32)\n",
            "tf.Tensor(\n",
            "[[[0.51375675 0.        ]\n",
            "  [0.51375675 0.        ]]], shape=(1, 2, 2), dtype=float32)\n"
          ]
        }
      ],
      "source": [
        "print(my_model([[2.0, 2.0, 2.0]]))\n",
        "print(my_model([[[2.0, 2.0, 2.0], [2.0, 2.0, 2.0]]]))"
      ]
    },
    {
      "cell_type": "markdown",
      "metadata": {
        "id": "qSFhoMtTjSR6"
      },
      "source": [
        "Thus, using `SavedModel`, you are able to save TensorFlow weights and graphs using `tf.Module`, and then load them again."
      ]
    },
    {
      "cell_type": "markdown",
      "metadata": {
        "id": "Rb9IdN7hlUZK"
      },
      "source": [
        "## Keras models and layers\n",
        "\n",
        "Note that up until this point, there is no mention of Keras. You can build your own high-level API on top of `tf.Module`, and people have.  \n",
        "\n",
        "In this section, you will examine how Keras uses `tf.Module`.  A complete user guide to Keras models can be found in the [Keras guide](https://www.tensorflow.org/guide/keras/sequential_model).\n"
      ]
    },
    {
      "cell_type": "markdown",
      "metadata": {
        "id": "uigsVGPreE-D"
      },
      "source": [
        "### Keras layers\n",
        "\n",
        "`tf.keras.layers.Layer` is the base class of all Keras layers, and it inherits from `tf.Module`.\n",
        "\n",
        "You can convert a module into a Keras layer just by swapping out the parent and then changing `__call__` to `call`:"
      ]
    },
    {
      "cell_type": "code",
      "execution_count": 26,
      "metadata": {
        "execution": {
          "iopub.execute_input": "2023-03-28T01:20:59.136181Z",
          "iopub.status.busy": "2023-03-28T01:20:59.135827Z",
          "iopub.status.idle": "2023-03-28T01:20:59.145545Z",
          "shell.execute_reply": "2023-03-28T01:20:59.144999Z"
        },
        "id": "88YOGquhnQRd"
      },
      "outputs": [],
      "source": [
        "class MyDense(tf.keras.layers.Layer):\n",
        "  # Adding **kwargs to support base Keras layer arguments\n",
        "  def __init__(self, in_features, out_features, **kwargs):\n",
        "    super().__init__(**kwargs)\n",
        "\n",
        "    # This will soon move to the build step; see below\n",
        "    self.w = tf.Variable(\n",
        "      tf.random.normal([in_features, out_features]), name='w')\n",
        "    self.b = tf.Variable(tf.zeros([out_features]), name='b')\n",
        "  def call(self, x):\n",
        "    y = tf.matmul(x, self.w) + self.b\n",
        "    return tf.nn.relu(y)\n",
        "\n",
        "simple_layer = MyDense(name=\"simple\", in_features=3, out_features=3)"
      ]
    },
    {
      "cell_type": "markdown",
      "metadata": {
        "id": "nYGmAsPrws--"
      },
      "source": [
        "Keras layers have their own `__call__` that does some bookkeeping described in the next section and then calls `call()`. You should notice no change in functionality."
      ]
    },
    {
      "cell_type": "code",
      "execution_count": 27,
      "metadata": {
        "execution": {
          "iopub.execute_input": "2023-03-28T01:20:59.148487Z",
          "iopub.status.busy": "2023-03-28T01:20:59.148284Z",
          "iopub.status.idle": "2023-03-28T01:20:59.156364Z",
          "shell.execute_reply": "2023-03-28T01:20:59.155834Z"
        },
        "id": "nIqE8wOznYKG",
        "colab": {
          "base_uri": "https://localhost:8080/"
        },
        "outputId": "fe4e95ef-6ceb-47aa-d8bc-d491d63680d9"
      },
      "outputs": [
        {
          "output_type": "execute_result",
          "data": {
            "text/plain": [
              "<tf.Tensor: shape=(1, 3), dtype=float32, numpy=array([[0.       , 3.2879052, 0.       ]], dtype=float32)>"
            ]
          },
          "metadata": {},
          "execution_count": 27
        }
      ],
      "source": [
        "simple_layer([[2.0, 2.0, 2.0]])"
      ]
    },
    {
      "cell_type": "markdown",
      "metadata": {
        "id": "tmN5vb1K18U1"
      },
      "source": [
        "### The `build` step\n",
        "\n",
        "As noted, it's convenient in many cases to wait to create variables until you are sure of the input shape.\n",
        "\n",
        "Keras layers come with an extra lifecycle step that allows you more flexibility in how you define your layers. This is defined in the `build` function.\n",
        "\n",
        "`build` is called exactly once, and it is called with the shape of the input. It's usually used to create variables (weights).\n",
        "\n",
        "You can rewrite `MyDense` layer above to be flexible to the size of its inputs:\n"
      ]
    },
    {
      "cell_type": "code",
      "execution_count": 28,
      "metadata": {
        "execution": {
          "iopub.execute_input": "2023-03-28T01:20:59.159177Z",
          "iopub.status.busy": "2023-03-28T01:20:59.158964Z",
          "iopub.status.idle": "2023-03-28T01:20:59.164258Z",
          "shell.execute_reply": "2023-03-28T01:20:59.163714Z"
        },
        "id": "4YTfrlgdsURp"
      },
      "outputs": [],
      "source": [
        "class FlexibleDense(tf.keras.layers.Layer):\n",
        "  # Note the added `**kwargs`, as Keras supports many arguments\n",
        "  def __init__(self, out_features, **kwargs):\n",
        "    super().__init__(**kwargs)\n",
        "    self.out_features = out_features\n",
        "\n",
        "  def build(self, input_shape):  # Create the state of the layer (weights)\n",
        "    self.w = tf.Variable(\n",
        "      tf.random.normal([input_shape[-1], self.out_features]), name='w')\n",
        "    self.b = tf.Variable(tf.zeros([self.out_features]), name='b')\n",
        "\n",
        "  def call(self, inputs):  # Defines the computation from inputs to outputs\n",
        "    return tf.matmul(inputs, self.w) + self.b\n",
        "\n",
        "# Create the instance of the layer\n",
        "flexible_dense = FlexibleDense(out_features=3)"
      ]
    },
    {
      "cell_type": "markdown",
      "metadata": {
        "id": "Koc_uSqt2PRh"
      },
      "source": [
        "At this point, the model has not been built, so there are no variables:"
      ]
    },
    {
      "cell_type": "code",
      "execution_count": 29,
      "metadata": {
        "execution": {
          "iopub.execute_input": "2023-03-28T01:20:59.167139Z",
          "iopub.status.busy": "2023-03-28T01:20:59.166605Z",
          "iopub.status.idle": "2023-03-28T01:20:59.170438Z",
          "shell.execute_reply": "2023-03-28T01:20:59.169934Z"
        },
        "id": "DgyTyUD32Ln4",
        "colab": {
          "base_uri": "https://localhost:8080/"
        },
        "outputId": "3f3eb3cd-59ba-443d-8e4c-b29c494c588e"
      },
      "outputs": [
        {
          "output_type": "execute_result",
          "data": {
            "text/plain": [
              "[]"
            ]
          },
          "metadata": {},
          "execution_count": 29
        }
      ],
      "source": [
        "flexible_dense.variables"
      ]
    },
    {
      "cell_type": "markdown",
      "metadata": {
        "id": "-KdamIVl2W8Y"
      },
      "source": [
        "Calling the function allocates appropriately-sized variables:"
      ]
    },
    {
      "cell_type": "code",
      "execution_count": 30,
      "metadata": {
        "execution": {
          "iopub.execute_input": "2023-03-28T01:20:59.172897Z",
          "iopub.status.busy": "2023-03-28T01:20:59.172696Z",
          "iopub.status.idle": "2023-03-28T01:20:59.179335Z",
          "shell.execute_reply": "2023-03-28T01:20:59.178792Z"
        },
        "id": "IkLyEx7uAoTK",
        "colab": {
          "base_uri": "https://localhost:8080/"
        },
        "outputId": "a89795d0-db60-48b6-bb72-ffe8183dd66d"
      },
      "outputs": [
        {
          "output_type": "stream",
          "name": "stdout",
          "text": [
            "Model results: tf.Tensor(\n",
            "[[ 0.9650831 -3.7718043 -3.8500729]\n",
            " [ 1.4476247 -5.6577063 -5.7751093]], shape=(2, 3), dtype=float32)\n"
          ]
        }
      ],
      "source": [
        "# Call it, with predictably random results\n",
        "print(\"Model results:\", flexible_dense(tf.constant([[2.0, 2.0, 2.0], [3.0, 3.0, 3.0]])))"
      ]
    },
    {
      "cell_type": "code",
      "execution_count": 31,
      "metadata": {
        "execution": {
          "iopub.execute_input": "2023-03-28T01:20:59.181732Z",
          "iopub.status.busy": "2023-03-28T01:20:59.181505Z",
          "iopub.status.idle": "2023-03-28T01:20:59.186342Z",
          "shell.execute_reply": "2023-03-28T01:20:59.185815Z"
        },
        "id": "Swofpkrd2YDd",
        "colab": {
          "base_uri": "https://localhost:8080/"
        },
        "outputId": "fc7c4354-c373-425c-bf16-3c52740d6ec4"
      },
      "outputs": [
        {
          "output_type": "execute_result",
          "data": {
            "text/plain": [
              "[<tf.Variable 'flexible_dense/w:0' shape=(3, 3) dtype=float32, numpy=\n",
              " array([[ 0.9320741 , -0.5575151 , -0.94535387],\n",
              "        [ 0.3223668 ,  0.5360278 , -0.15972118],\n",
              "        [-0.77189934, -1.8644148 , -0.8199614 ]], dtype=float32)>,\n",
              " <tf.Variable 'flexible_dense/b:0' shape=(3,) dtype=float32, numpy=array([0., 0., 0.], dtype=float32)>]"
            ]
          },
          "metadata": {},
          "execution_count": 31
        }
      ],
      "source": [
        "flexible_dense.variables"
      ]
    },
    {
      "cell_type": "markdown",
      "metadata": {
        "id": "7PuNUnf0OIpF"
      },
      "source": [
        "Since `build` is only called once, inputs will be rejected if the input shape is not compatible with the layer's variables:"
      ]
    },
    {
      "cell_type": "code",
      "execution_count": 32,
      "metadata": {
        "execution": {
          "iopub.execute_input": "2023-03-28T01:20:59.188910Z",
          "iopub.status.busy": "2023-03-28T01:20:59.188710Z",
          "iopub.status.idle": "2023-03-28T01:20:59.193387Z",
          "shell.execute_reply": "2023-03-28T01:20:59.192845Z"
        },
        "id": "caYWDrHSAy_j",
        "colab": {
          "base_uri": "https://localhost:8080/"
        },
        "outputId": "11c3872d-95ae-439a-9394-7012135a8a31"
      },
      "outputs": [
        {
          "output_type": "stream",
          "name": "stdout",
          "text": [
            "Failed: Exception encountered when calling layer 'flexible_dense' (type FlexibleDense).\n",
            "\n",
            "{{function_node __wrapped__MatMul_device_/job:localhost/replica:0/task:0/device:GPU:0}} Matrix size-incompatible: In[0]: [1,4], In[1]: [3,3] [Op:MatMul]\n",
            "\n",
            "Call arguments received by layer 'flexible_dense' (type FlexibleDense):\n",
            "  • inputs=tf.Tensor(shape=(1, 4), dtype=float32)\n"
          ]
        }
      ],
      "source": [
        "try:\n",
        "  print(\"Model results:\", flexible_dense(tf.constant([[2.0, 2.0, 2.0, 2.0]])))\n",
        "except tf.errors.InvalidArgumentError as e:\n",
        "  print(\"Failed:\", e)"
      ]
    },
    {
      "cell_type": "markdown",
      "metadata": {
        "id": "YnporXiudF1I"
      },
      "source": [
        "Keras layers have a lot more extra features including:\n",
        "\n",
        "* Optional losses\n",
        "* Support for metrics\n",
        "* Built-in support for an optional `training` argument to differentiate between training and inference use\n",
        "* `get_config` and `from_config` methods that allow you to accurately store configurations to allow model cloning in Python\n",
        "\n",
        "Read about them in the [full guide](./keras/custom_layers_and_models.ipynb) to custom layers and models."
      ]
    },
    {
      "cell_type": "markdown",
      "metadata": {
        "id": "L2kds2IHw2KD"
      },
      "source": [
        "### Keras models\n",
        "\n",
        "You can define your model as nested Keras layers.\n",
        "\n",
        "However, Keras also provides a full-featured model class called `tf.keras.Model`. It inherits from `tf.keras.layers.Layer`, so a Keras model can be used, nested, and saved in the same way as Keras layers. Keras models come with extra functionality that makes them easy to train, evaluate, load, save, and even train on multiple machines.\n",
        "\n",
        "You can define the `SequentialModule` from above with nearly identical code, again converting `__call__` to `call()` and changing the parent:"
      ]
    },
    {
      "cell_type": "code",
      "execution_count": 33,
      "metadata": {
        "execution": {
          "iopub.execute_input": "2023-03-28T01:20:59.195926Z",
          "iopub.status.busy": "2023-03-28T01:20:59.195724Z",
          "iopub.status.idle": "2023-03-28T01:20:59.212302Z",
          "shell.execute_reply": "2023-03-28T01:20:59.211746Z"
        },
        "id": "Hqjo1DiyrHrn",
        "colab": {
          "base_uri": "https://localhost:8080/"
        },
        "outputId": "3e7f2efe-ae8c-408b-eb54-6bdf1b31fb09"
      },
      "outputs": [
        {
          "output_type": "stream",
          "name": "stdout",
          "text": [
            "Model results: tf.Tensor([[5.9541535 1.4373043]], shape=(1, 2), dtype=float32)\n"
          ]
        }
      ],
      "source": [
        "class MySequentialModel(tf.keras.Model):\n",
        "  def __init__(self, name=None, **kwargs):\n",
        "    super().__init__(**kwargs)\n",
        "\n",
        "    self.dense_1 = FlexibleDense(out_features=3)\n",
        "    self.dense_2 = FlexibleDense(out_features=2)\n",
        "  def call(self, x):\n",
        "    x = self.dense_1(x)\n",
        "    return self.dense_2(x)\n",
        "\n",
        "# You have made a Keras model!\n",
        "my_sequential_model = MySequentialModel(name=\"the_model\")\n",
        "\n",
        "# Call it on a tensor, with random results\n",
        "print(\"Model results:\", my_sequential_model(tf.constant([[2.0, 2.0, 2.0]])))\n"
      ]
    },
    {
      "cell_type": "markdown",
      "metadata": {
        "id": "8i-CR_h2xw3z"
      },
      "source": [
        "All the same features are available, including tracking variables and submodules.\n",
        "\n",
        "Note: To emphasize the note above, a raw `tf.Module` nested inside a Keras layer or model will not get its variables collected for training or saving.  Instead, nest Keras layers inside of Keras layers."
      ]
    },
    {
      "cell_type": "code",
      "execution_count": 34,
      "metadata": {
        "execution": {
          "iopub.execute_input": "2023-03-28T01:20:59.214817Z",
          "iopub.status.busy": "2023-03-28T01:20:59.214603Z",
          "iopub.status.idle": "2023-03-28T01:20:59.220899Z",
          "shell.execute_reply": "2023-03-28T01:20:59.220315Z"
        },
        "id": "hdLQFNdMsOz1",
        "colab": {
          "base_uri": "https://localhost:8080/"
        },
        "outputId": "20c72928-88ed-4cff-ce2b-278045c4dd13"
      },
      "outputs": [
        {
          "output_type": "execute_result",
          "data": {
            "text/plain": [
              "[<tf.Variable 'my_sequential_model/flexible_dense_1/w:0' shape=(3, 3) dtype=float32, numpy=\n",
              " array([[-1.0186064 ,  0.24893981,  1.120944  ],\n",
              "        [ 0.02734451,  0.83791023,  0.6628014 ],\n",
              "        [-1.0913272 , -0.12695351,  0.98927903]], dtype=float32)>,\n",
              " <tf.Variable 'my_sequential_model/flexible_dense_1/b:0' shape=(3,) dtype=float32, numpy=array([0., 0., 0.], dtype=float32)>,\n",
              " <tf.Variable 'my_sequential_model/flexible_dense_2/w:0' shape=(3, 2) dtype=float32, numpy=\n",
              " array([[-0.7783738 , -1.8603063 ],\n",
              "        [-0.46315733, -0.27423984],\n",
              "        [ 0.64933693, -1.0430343 ]], dtype=float32)>,\n",
              " <tf.Variable 'my_sequential_model/flexible_dense_2/b:0' shape=(2,) dtype=float32, numpy=array([0., 0.], dtype=float32)>]"
            ]
          },
          "metadata": {},
          "execution_count": 34
        }
      ],
      "source": [
        "my_sequential_model.variables"
      ]
    },
    {
      "cell_type": "code",
      "execution_count": 35,
      "metadata": {
        "execution": {
          "iopub.execute_input": "2023-03-28T01:20:59.223345Z",
          "iopub.status.busy": "2023-03-28T01:20:59.223129Z",
          "iopub.status.idle": "2023-03-28T01:20:59.228183Z",
          "shell.execute_reply": "2023-03-28T01:20:59.227641Z"
        },
        "id": "JjVAMrAJsQ7G",
        "colab": {
          "base_uri": "https://localhost:8080/"
        },
        "outputId": "23686662-6c1f-4bc5-a9b8-f00a21026b31"
      },
      "outputs": [
        {
          "output_type": "execute_result",
          "data": {
            "text/plain": [
              "(<__main__.FlexibleDense at 0x7fab6d1522b0>,\n",
              " <__main__.FlexibleDense at 0x7fab6d1713a0>)"
            ]
          },
          "metadata": {},
          "execution_count": 35
        }
      ],
      "source": [
        "my_sequential_model.submodules"
      ]
    },
    {
      "cell_type": "markdown",
      "metadata": {
        "id": "FhP8EItC4oac"
      },
      "source": [
        "Overriding `tf.keras.Model` is a very Pythonic approach to building TensorFlow models.  If you are migrating models from other frameworks, this can be very straightforward.\n",
        "\n",
        "If you are constructing models that are simple assemblages of existing layers and inputs, you can save time and space by using the [functional API](./keras/functional.ipynb), which comes with additional features around model reconstruction and architecture.\n",
        "\n",
        "Here is the same model with the functional API:"
      ]
    },
    {
      "cell_type": "code",
      "execution_count": 36,
      "metadata": {
        "execution": {
          "iopub.execute_input": "2023-03-28T01:20:59.230856Z",
          "iopub.status.busy": "2023-03-28T01:20:59.230638Z",
          "iopub.status.idle": "2023-03-28T01:20:59.289164Z",
          "shell.execute_reply": "2023-03-28T01:20:59.288625Z"
        },
        "id": "jJiZZiJ0fyqQ",
        "colab": {
          "base_uri": "https://localhost:8080/"
        },
        "outputId": "f2b5de09-bef5-4fd3-db97-805a9e4a6110"
      },
      "outputs": [
        {
          "output_type": "stream",
          "name": "stdout",
          "text": [
            "Model: \"model\"\n",
            "_________________________________________________________________\n",
            " Layer (type)                Output Shape              Param #   \n",
            "=================================================================\n",
            " input_1 (InputLayer)        [(None, 3)]               0         \n",
            "                                                                 \n",
            " flexible_dense_3 (FlexibleD  (None, 3)                12        \n",
            " ense)                                                           \n",
            "                                                                 \n",
            " flexible_dense_4 (FlexibleD  (None, 2)                8         \n",
            " ense)                                                           \n",
            "                                                                 \n",
            "=================================================================\n",
            "Total params: 20\n",
            "Trainable params: 20\n",
            "Non-trainable params: 0\n",
            "_________________________________________________________________\n"
          ]
        }
      ],
      "source": [
        "inputs = tf.keras.Input(shape=[3,])\n",
        "\n",
        "x = FlexibleDense(3)(inputs)\n",
        "x = FlexibleDense(2)(x)\n",
        "\n",
        "my_functional_model = tf.keras.Model(inputs=inputs, outputs=x)\n",
        "\n",
        "my_functional_model.summary()"
      ]
    },
    {
      "cell_type": "code",
      "execution_count": 37,
      "metadata": {
        "execution": {
          "iopub.execute_input": "2023-03-28T01:20:59.292109Z",
          "iopub.status.busy": "2023-03-28T01:20:59.291894Z",
          "iopub.status.idle": "2023-03-28T01:20:59.298790Z",
          "shell.execute_reply": "2023-03-28T01:20:59.298179Z"
        },
        "id": "kg-xAZw5gaG6",
        "colab": {
          "base_uri": "https://localhost:8080/"
        },
        "outputId": "ae10d267-4605-493d-f640-5a603de1ff10"
      },
      "outputs": [
        {
          "output_type": "execute_result",
          "data": {
            "text/plain": [
              "<tf.Tensor: shape=(1, 2), dtype=float32, numpy=array([[ 1.5045042, -2.581245 ]], dtype=float32)>"
            ]
          },
          "metadata": {},
          "execution_count": 37
        }
      ],
      "source": [
        "my_functional_model(tf.constant([[2.0, 2.0, 2.0]]))"
      ]
    },
    {
      "cell_type": "markdown",
      "metadata": {
        "id": "s_BK9XH5q9cq"
      },
      "source": [
        "The major difference here is that the input shape is specified up front as part of the functional construction process. The `input_shape` argument in this case does not have to be completely specified; you can leave some dimensions as `None`.\n",
        "\n",
        "Note: You do not need to specify `input_shape` or an `InputLayer` in a subclassed model; these arguments and layers will be ignored."
      ]
    },
    {
      "cell_type": "markdown",
      "metadata": {
        "id": "qI9aXLnaHEFF"
      },
      "source": [
        "## Saving Keras models\n",
        "\n",
        "Keras models can be checkpointed, and that will look the same as `tf.Module`.\n",
        "\n",
        "Keras models can also be saved with `tf.saved_model.save()`, as they are modules.  However, Keras models have convenience methods and other functionality:"
      ]
    },
    {
      "cell_type": "code",
      "execution_count": 38,
      "metadata": {
        "execution": {
          "iopub.execute_input": "2023-03-28T01:20:59.301447Z",
          "iopub.status.busy": "2023-03-28T01:20:59.301241Z",
          "iopub.status.idle": "2023-03-28T01:20:59.627716Z",
          "shell.execute_reply": "2023-03-28T01:20:59.626996Z"
        },
        "id": "SAz-KVZlzAJu"
      },
      "outputs": [],
      "source": [
        "my_sequential_model.save(\"exname_of_file\")"
      ]
    },
    {
      "cell_type": "markdown",
      "metadata": {
        "id": "C2urAeR-omns"
      },
      "source": [
        "Just as easily, they can be loaded back in:"
      ]
    },
    {
      "cell_type": "code",
      "execution_count": 39,
      "metadata": {
        "execution": {
          "iopub.execute_input": "2023-03-28T01:20:59.630518Z",
          "iopub.status.busy": "2023-03-28T01:20:59.630302Z",
          "iopub.status.idle": "2023-03-28T01:20:59.713886Z",
          "shell.execute_reply": "2023-03-28T01:20:59.713300Z"
        },
        "id": "Wj5DW-LCopry",
        "colab": {
          "base_uri": "https://localhost:8080/"
        },
        "outputId": "ccd7a396-0e8f-4528-9ca2-780a6b1c73f8"
      },
      "outputs": [
        {
          "output_type": "stream",
          "name": "stderr",
          "text": [
            "WARNING:tensorflow:No training configuration found in save file, so the model was *not* compiled. Compile it manually.\n"
          ]
        }
      ],
      "source": [
        "reconstructed_model = tf.keras.models.load_model(\"exname_of_file\")"
      ]
    },
    {
      "cell_type": "markdown",
      "metadata": {
        "id": "EA7P_MNvpviZ"
      },
      "source": [
        "Keras `SavedModels` also save metric, loss, and optimizer states.\n",
        "\n",
        "This reconstructed model can be used and will produce the same result when called on the same data:"
      ]
    },
    {
      "cell_type": "code",
      "execution_count": 40,
      "metadata": {
        "execution": {
          "iopub.execute_input": "2023-03-28T01:20:59.716848Z",
          "iopub.status.busy": "2023-03-28T01:20:59.716602Z",
          "iopub.status.idle": "2023-03-28T01:20:59.740519Z",
          "shell.execute_reply": "2023-03-28T01:20:59.739963Z"
        },
        "id": "P_wGfQo5pe6T",
        "colab": {
          "base_uri": "https://localhost:8080/"
        },
        "outputId": "4d7a047a-f9a0-4170-87cd-72f7ca8e74ec"
      },
      "outputs": [
        {
          "output_type": "execute_result",
          "data": {
            "text/plain": [
              "<tf.Tensor: shape=(1, 2), dtype=float32, numpy=array([[5.9541535, 1.4373043]], dtype=float32)>"
            ]
          },
          "metadata": {},
          "execution_count": 40
        }
      ],
      "source": [
        "reconstructed_model(tf.constant([[2.0, 2.0, 2.0]]))"
      ]
    },
    {
      "cell_type": "markdown",
      "metadata": {
        "id": "xKyjlkceqjwD"
      },
      "source": [
        "There is more to know about saving and serialization of Keras models, including providing configuration methods for custom layers for feature support. Check out the [guide to saving and serialization](https://www.tensorflow.org/guide/keras/save_and_serialize)."
      ]
    },
    {
      "cell_type": "markdown",
      "metadata": {
        "id": "kcdMMPYv7Krz"
      },
      "source": [
        "# What's next\n",
        "\n",
        "If you want to know more details about Keras, you can follow the existing Keras guides [here](./keras/).\n",
        "\n",
        "Another example of a high-level API built on `tf.module` is Sonnet from DeepMind, which is covered on [their site](https://github.com/deepmind/sonnet)."
      ]
    }
  ],
  "metadata": {
    "colab": {
      "collapsed_sections": [
        "ISubpr_SSsiM"
      ],
      "provenance": []
    },
    "kernelspec": {
      "display_name": "Python 3",
      "name": "python3"
    },
    "language_info": {
      "codemirror_mode": {
        "name": "ipython",
        "version": 3
      },
      "file_extension": ".py",
      "mimetype": "text/x-python",
      "name": "python",
      "nbconvert_exporter": "python",
      "pygments_lexer": "ipython3",
      "version": "3.9.16"
    },
    "accelerator": "GPU",
    "gpuClass": "standard"
  },
  "nbformat": 4,
  "nbformat_minor": 0
}